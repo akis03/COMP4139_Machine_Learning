{
 "cells": [
  {
   "cell_type": "code",
   "execution_count": 6,
   "id": "3bd47e00-bbae-47de-90e8-5107d5137d3e",
   "metadata": {},
   "outputs": [
    {
     "name": "stdout",
     "output_type": "stream",
     "text": [
      "          name     role         type      demographic  \\\n",
      "0       school  Feature  Categorical             None   \n",
      "1          sex  Feature       Binary              Sex   \n",
      "2          age  Feature      Integer              Age   \n",
      "3      address  Feature  Categorical             None   \n",
      "4      famsize  Feature  Categorical            Other   \n",
      "5      Pstatus  Feature  Categorical            Other   \n",
      "6         Medu  Feature      Integer  Education Level   \n",
      "7         Fedu  Feature      Integer  Education Level   \n",
      "8         Mjob  Feature  Categorical       Occupation   \n",
      "9         Fjob  Feature  Categorical       Occupation   \n",
      "10      reason  Feature  Categorical             None   \n",
      "11    guardian  Feature  Categorical             None   \n",
      "12  traveltime  Feature      Integer             None   \n",
      "13   studytime  Feature      Integer             None   \n",
      "14    failures  Feature      Integer             None   \n",
      "15   schoolsup  Feature       Binary             None   \n",
      "16      famsup  Feature       Binary             None   \n",
      "17        paid  Feature       Binary             None   \n",
      "18  activities  Feature       Binary             None   \n",
      "19     nursery  Feature       Binary             None   \n",
      "20      higher  Feature       Binary             None   \n",
      "21    internet  Feature       Binary             None   \n",
      "22    romantic  Feature       Binary             None   \n",
      "23      famrel  Feature      Integer             None   \n",
      "24    freetime  Feature      Integer             None   \n",
      "25       goout  Feature      Integer             None   \n",
      "26        Dalc  Feature      Integer             None   \n",
      "27        Walc  Feature      Integer             None   \n",
      "28      health  Feature      Integer             None   \n",
      "29    absences  Feature      Integer             None   \n",
      "30          G1   Target  Categorical             None   \n",
      "31          G2   Target  Categorical             None   \n",
      "32          G3   Target      Integer             None   \n",
      "\n",
      "                                          description units missing_values  \n",
      "0   student's school (binary: 'GP' - Gabriel Perei...  None             no  \n",
      "1   student's sex (binary: 'F' - female or 'M' - m...  None             no  \n",
      "2              student's age (numeric: from 15 to 22)  None             no  \n",
      "3   student's home address type (binary: 'U' - urb...  None             no  \n",
      "4   family size (binary: 'LE3' - less or equal to ...  None             no  \n",
      "5   parent's cohabitation status (binary: 'T' - li...  None             no  \n",
      "6   mother's education (numeric: 0 - none,  1 - pr...  None             no  \n",
      "7   father's education (numeric: 0 - none,  1 - pr...  None             no  \n",
      "8   mother's job (nominal: 'teacher', 'health' car...  None             no  \n",
      "9   father's job (nominal: 'teacher', 'health' car...  None             no  \n",
      "10  reason to choose this school (nominal: close t...  None             no  \n",
      "11  student's guardian (nominal: 'mother', 'father...  None             no  \n",
      "12  home to school travel time (numeric: 1 - <15 m...  None             no  \n",
      "13  weekly study time (numeric: 1 - <2 hours, 2 - ...  None             no  \n",
      "14  number of past class failures (numeric: n if 1...  None             no  \n",
      "15      extra educational support (binary: yes or no)  None             no  \n",
      "16     family educational support (binary: yes or no)  None             no  \n",
      "17  extra paid classes within the course subject (...  None             no  \n",
      "18    extra-curricular activities (binary: yes or no)  None             no  \n",
      "19        attended nursery school (binary: yes or no)  None             no  \n",
      "20  wants to take higher education (binary: yes or...  None             no  \n",
      "21        Internet access at home (binary: yes or no)  None             no  \n",
      "22   with a romantic relationship (binary: yes or no)  None             no  \n",
      "23  quality of family relationships (numeric: from...  None             no  \n",
      "24  free time after school (numeric: from 1 - very...  None             no  \n",
      "25  going out with friends (numeric: from 1 - very...  None             no  \n",
      "26  workday alcohol consumption (numeric: from 1 -...  None             no  \n",
      "27  weekend alcohol consumption (numeric: from 1 -...  None             no  \n",
      "28  current health status (numeric: from 1 - very ...  None             no  \n",
      "29  number of school absences (numeric: from 0 to 93)  None             no  \n",
      "30         first period grade (numeric: from 0 to 20)  None             no  \n",
      "31        second period grade (numeric: from 0 to 20)  None             no  \n",
      "32  final grade (numeric: from 0 to 20, output tar...  None             no  \n"
     ]
    }
   ],
   "source": [
    "from ucimlrepo import fetch_ucirepo \n",
    "  \n",
    "# fetch dataset \n",
    "student_performance = fetch_ucirepo(id=320) \n",
    "  \n",
    "# data (as pandas dataframes) \n",
    "X = student_performance.data.features \n",
    "y = student_performance.data.targets \n",
    "\n",
    "# variable information \n",
    "print(student_performance.variables) "
   ]
  },
  {
   "cell_type": "code",
   "execution_count": null,
   "id": "df9e836c-3377-4f93-9087-fae119291ec6",
   "metadata": {},
   "outputs": [],
   "source": []
  }
 ],
 "metadata": {
  "kernelspec": {
   "display_name": "Python 3 (ipykernel)",
   "language": "python",
   "name": "python3"
  },
  "language_info": {
   "codemirror_mode": {
    "name": "ipython",
    "version": 3
   },
   "file_extension": ".py",
   "mimetype": "text/x-python",
   "name": "python",
   "nbconvert_exporter": "python",
   "pygments_lexer": "ipython3",
   "version": "3.10.13"
  }
 },
 "nbformat": 4,
 "nbformat_minor": 5
}
